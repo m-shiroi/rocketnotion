{
 "cells": [
  {
   "cell_type": "code",
   "execution_count": 1,
   "id": "699aea2a",
   "metadata": {},
   "outputs": [],
   "source": [
    "from time import time\n",
    "from sklearn.decomposition import PCA\n",
    "from sklearn.ensemble import RandomForestClassifier\n",
    "from sklearn import metrics\n",
    "from time import time\n",
    "from bin_model import MyModel\n",
    "from helpers import printm\n",
    "from PCA import CustomPCA\n",
    "import cv2 as cv\n",
    "import numpy as np\n",
    "import pandas as pd\n",
    "from helpers import printm\n"
   ]
  },
  {
   "cell_type": "code",
   "execution_count": 2,
   "id": "cb475ff4",
   "metadata": {},
   "outputs": [],
   "source": [
    "def get_text(original, img, cnt_all, start, line, size):\n",
    "  #Find the closeset contour to the start point\n",
    "  prime_cnt = sorted(cnt_all, key=lambda cnt: abs(cv.pointPolygonTest(cnt,start,True)))[0]\n",
    "\n",
    "  take_x = lambda dot: dot[0][0]\n",
    "  take_y = lambda dot: dot[0][1]\n",
    "\n",
    "  #Find coordinate of squre\n",
    "  y_0 = min(prime_cnt, key=take_y)[0][1] + line\n",
    "  x_0 = min(prime_cnt, key=take_x)[0][0] + line\n",
    "  y_1 = max(prime_cnt, key=take_y)[0][1] - line\n",
    "  x_1 = max(prime_cnt, key=take_x)[0][0] - line\n",
    "\n",
    "  center_y = y_0 + (y_1 - y_0)//2\n",
    "  center_x = x_0 + (x_1 - x_0)//2\n",
    "\n",
    "  resize = lambda image: cv.resize(image, (size, size), interpolation = cv.INTER_CUBIC)\n",
    "  return map(resize, [original[y_0: center_y, x_0: center_x],\n",
    "                      original[y_0: center_y, center_x: x_1],\n",
    "                      original[center_y: y_1, x_0: center_x],\n",
    "                      original[center_y: y_1, center_x: x_1]])"
   ]
  },
  {
   "cell_type": "code",
   "execution_count": 3,
   "id": "39a236ea",
   "metadata": {},
   "outputs": [],
   "source": [
    "def standartize(dataset):\n",
    "  output_dataset = []\n",
    "  for img in dataset:\n",
    "    new_img = []\n",
    "    for row in img:\n",
    "      for pixel in row:\n",
    "        value = int(abs(255-((0.3 * pixel[0]) + (0.59 * pixel[1]) + (0.11 * pixel[2]))))\n",
    "        new_img.append(value if value > 70 else 0)\n",
    "    output_dataset.append(new_img)\n",
    "  return output_dataset"
   ]
  },
  {
   "cell_type": "code",
   "execution_count": 4,
   "id": "773d2778",
   "metadata": {},
   "outputs": [],
   "source": [
    "def convert_to_standart(path):\n",
    "    image = cv.imread(path)\n",
    "    #cv2_imshow(image)\n",
    "\n",
    "    #Left upper angle\n",
    "    START_1 = (0, 0)\n",
    "\n",
    "    #Right upper angle\n",
    "    START_2 = (len(image[0]), 0)\n",
    "\n",
    "    #Line width\n",
    "    LINE = 14\n",
    "\n",
    "    #Size of digit\n",
    "    SIZE = 28\n",
    "\n",
    "    #Process image\n",
    "    gray = cv.cvtColor(image, cv.COLOR_BGR2GRAY)\n",
    "    blur = cv.GaussianBlur(gray, (5,5), 0)\n",
    "    thresh = cv.adaptiveThreshold(blur, 255, 1, 1, 11, 2)\n",
    "\n",
    "    #Get contours of image\n",
    "    contours, _ = cv.findContours(thresh, cv.RETR_TREE, cv.CHAIN_APPROX_SIMPLE)\n",
    "\n",
    "    #Get rid of dots and other lines that defenetly can not have area\n",
    "    #and be squres that we are searching for\n",
    "    contours = list(filter(lambda cnt: cv.contourArea(cnt) > 1000, contours))\n",
    "        \n",
    "    full = list(get_text(image, thresh, contours, START_1, LINE, SIZE)) + list(get_text(image, thresh, contours, START_2, LINE, SIZE))\n",
    "    return np.array(standartize(full))"
   ]
  },
  {
   "cell_type": "code",
   "execution_count": 5,
   "id": "9d3f6111",
   "metadata": {},
   "outputs": [],
   "source": [
    "def forest_bench(train: dict, predict: list):\n",
    "    clf = RandomForestClassifier()\n",
    "    clf.fit(train['data'], train['label'])\n",
    "    return clf.predict(predict)"
   ]
  },
  {
   "cell_type": "code",
   "execution_count": 6,
   "id": "c1042839",
   "metadata": {},
   "outputs": [],
   "source": [
    "handwritten = pd.read_csv(\"data/bin.csv\")\n",
    "handwritten_data, handwritten_labels = handwritten.drop([\"label\"], axis=1).values, handwritten[\"label\"]"
   ]
  },
  {
   "cell_type": "code",
   "execution_count": 7,
   "id": "76458bca",
   "metadata": {},
   "outputs": [],
   "source": [
    "rocketbook = { \n",
    "    'data':  handwritten_data,\n",
    "    'label': handwritten_labels\n",
    "}"
   ]
  },
  {
   "cell_type": "code",
   "execution_count": 8,
   "id": "5c849ba3",
   "metadata": {},
   "outputs": [],
   "source": [
    "processed = convert_to_standart(\"data/photos/0.jpg\")"
   ]
  },
  {
   "cell_type": "code",
   "execution_count": 9,
   "id": "1cd6e714",
   "metadata": {},
   "outputs": [
    {
     "data": {
      "text/plain": [
       "array([1, 0, 0, 0, 1, 1, 0, 0])"
      ]
     },
     "execution_count": 9,
     "metadata": {},
     "output_type": "execute_result"
    }
   ],
   "source": [
    "forest_bench(rocketbook, processed)"
   ]
  },
  {
   "cell_type": "code",
   "execution_count": 10,
   "id": "2c38561c",
   "metadata": {},
   "outputs": [
    {
     "data": {
      "image/png": "[encoded data removed]",
      "text/plain": [
       "<Figure size 432x288 with 8 Axes>"
      ]
     },
     "metadata": {
      "needs_background": "light"
     },
     "output_type": "display_data"
    }
   ],
   "source": [
    "printm(processed)"
   ]
  },
  {
   "cell_type": "code",
   "execution_count": null,
   "id": "d8726844",
   "metadata": {},
   "outputs": [],
   "source": []
  }
 ],
 "metadata": {
  "kernelspec": {
   "display_name": "Python 3",
   "language": "python",
   "name": "python3"
  },
  "language_info": {
   "codemirror_mode": {
    "name": "ipython",
    "version": 3
   },
   "file_extension": ".py",
   "mimetype": "text/x-python",
   "name": "python",
   "nbconvert_exporter": "python",
   "pygments_lexer": "ipython3",
   "version": "3.9.4"
  }
 },
 "nbformat": 4,
 "nbformat_minor": 5
}
