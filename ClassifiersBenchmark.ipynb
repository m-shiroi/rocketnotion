{
 "cells": [
  {
   "cell_type": "code",
   "execution_count": null,
   "id": "eba04cc5",
   "metadata": {},
   "outputs": [],
   "source": [
    "from sklearn.preprocessing import StandardScaler\n",
    "from sklearn.neighbors import KNeighborsClassifier\n",
    "from sklearn.ensemble import RandomForestClassifier\n",
    "from sklearn.naive_bayes import GaussianNB\n",
    "from sklearn.svm import LinearSVC\n",
    "from sklearn import tree\n",
    "from sklearn.metrics import accuracy_score\n",
    "from sklearn.decomposition import PCA\n",
    "import pandas as pd\n",
    "import matplotlib.pyplot as plt\n",
    "import altair as alt\n",
    "\n",
    "from plotter import plotter\n",
    "from time import time\n",
    "    \n",
    "TRAIN_SIZE = 50000\n",
    "PCA_MAX    = 30"
   ]
  },
  {
   "cell_type": "markdown",
   "id": "56ff998f",
   "metadata": {},
   "source": [
    "## Prepare testing & training datasets"
   ]
  },
  {
   "cell_type": "code",
   "execution_count": null,
   "id": "6dfbc29a",
   "metadata": {},
   "outputs": [],
   "source": [
    "# Divide MNIST dataset into pixels and and labels\n",
    "mnist = pd.read_csv(\"data/mnist.csv\")\n",
    "mnist_data, mnist_labels = mnist.drop([\"label\"], axis=1).values, mnist[\"label\"]"
   ]
  },
  {
   "cell_type": "code",
   "execution_count": null,
   "id": "c90e8fa4",
   "metadata": {},
   "outputs": [],
   "source": [
    "train = {\n",
    "    'data':  mnist_data[:TRAIN_SIZE],\n",
    "    'label': mnist_labels[:TRAIN_SIZE]\n",
    "}\n",
    "\n",
    "test = {\n",
    "    'data':  mnist_data[TRAIN_SIZE:],\n",
    "    'label': mnist_labels[TRAIN_SIZE:]\n",
    "}\n",
    "\n",
    "scaler = StandardScaler().fit(train['data'])\n",
    "train['data'] = scaler.transform(train['data'])\n",
    "test['data'] =  scaler.transform(test['data'])"
   ]
  },
  {
   "cell_type": "markdown",
   "id": "2f1b5a04",
   "metadata": {},
   "source": [
    "## Test classifiers"
   ]
  },
  {
   "cell_type": "code",
   "execution_count": null,
   "id": "efd9cec5",
   "metadata": {},
   "outputs": [],
   "source": [
    "clf_test = []\n",
    "classifiers = [(RandomForestClassifier(), \"RandomForest\"), (LinearSVC(), \"LinearSVC\"),\n",
    "               (KNeighborsClassifier(), \"KNN\"), (GaussianNB(), \"GausianNB\"),\n",
    "               (tree.DecisionTreeClassifier(), \"DecisionTree\")]\n",
    "\n",
    "train_ds = {\n",
    "    'data':  train['data'],\n",
    "    'label': train['label']\n",
    "}\n",
    "\n",
    "test_ds = {\n",
    "    'data':  test['data'],\n",
    "    'label': test['label']\n",
    "}\n",
    "\n",
    "for principal_axis in range(1, PCA_MAX+1):\n",
    "    pca = PCA(principal_axis)\n",
    "    pca.fit(train['data'])\n",
    "    train_ds['data'] = pca.transform(train['data'])\n",
    "    test_ds['data'] = pca.transform(test['data'])\n",
    "    for clf, name in classifiers:\n",
    "        clf.fit(train_ds['data'], train_ds['label'])\n",
    "        start = time()\n",
    "        score = clf.score(test_ds['data'], test_ds['label'])\n",
    "        clf_test += [{'label': name, 'x': principal_axis, 'accuracy': score, 'time': time() - start}]"
   ]
  },
  {
   "cell_type": "markdown",
   "id": "d03d98de",
   "metadata": {},
   "source": [
    "## Compare <ins>Accuracy</ins>"
   ]
  },
  {
   "cell_type": "code",
   "execution_count": 9,
   "id": "b8b69ebc",
   "metadata": {},
   "outputs": [
    {
     "data": {
      "text/html": [
       "\n",
       "<div id=\"altair-viz-d3a1b81964c44e349b37af005716b18d\"></div>\n",
       "<script type=\"text/javascript\">\n",
       "  (function(spec, embedOpt){\n",
       "    let outputDiv = document.currentScript.previousElementSibling;\n",
       "    if (outputDiv.id !== \"altair-viz-d3a1b81964c44e349b37af005716b18d\") {\n",
       "      outputDiv = document.getElementById(\"altair-viz-d3a1b81964c44e349b37af005716b18d\");\n",
       "    }\n",
       "    const paths = {\n",
       "      \"vega\": \"https://cdn.jsdelivr.net/npm//vega@5?noext\",\n",
       "      \"vega-lib\": \"https://cdn.jsdelivr.net/npm//vega-lib?noext\",\n",
       "      \"vega-lite\": \"https://cdn.jsdelivr.net/npm//vega-lite@4.8.1?noext\",\n",
       "      \"vega-embed\": \"https://cdn.jsdelivr.net/npm//vega-embed@6?noext\",\n",
       "    };\n",
       "\n",
       "    function loadScript(lib) {\n",
       "      return new Promise(function(resolve, reject) {\n",
       "        var s = document.createElement('script');\n",
       "        s.src = paths[lib];\n",
       "        s.async = true;\n",
       "        s.onload = () => resolve(paths[lib]);\n",
       "        s.onerror = () => reject(`Error loading script: ${paths[lib]}`);\n",
       "        document.getElementsByTagName(\"head\")[0].appendChild(s);\n",
       "      });\n",
       "    }\n",
       "\n",
       "    function showError(err) {\n",
       "      outputDiv.innerHTML = `<div class=\"error\" style=\"color:red;\">${err}</div>`;\n",
       "      throw err;\n",
       "    }\n",
       "\n",
       "    function displayChart(vegaEmbed) {\n",
       "      vegaEmbed(outputDiv, spec, embedOpt)\n",
       "        .catch(err => showError(`Javascript Error: ${err.message}<br>This usually means there's a typo in your chart specification. See the javascript console for the full traceback.`));\n",
       "    }\n",
       "\n",
       "    if(typeof define === \"function\" && define.amd) {\n",
       "      requirejs.config({paths});\n",
       "      require([\"vega-embed\"], displayChart, err => showError(`Error loading script: ${err.message}`));\n",
       "    } else if (typeof vegaEmbed === \"function\") {\n",
       "      displayChart(vegaEmbed);\n",
       "    } else {\n",
       "      loadScript(\"vega\")\n",
       "        .then(() => loadScript(\"vega-lite\"))\n",
       "        .then(() => loadScript(\"vega-embed\"))\n",
       "        .catch(showError)\n",
       "        .then(() => displayChart(vegaEmbed));\n",
       "    }\n",
       "  })({\"config\": {\"view\": {\"continuousWidth\": 800, \"continuousHeight\": 400}, \"background\": \"#efefef\", \"axis\": {\"gridColor\": \"#ffffff\", \"domainColor\": null, \"tickColor\": null, \"labelColor\": \"#444444\", \"titleColor\": \"#444444\"}, \"legend\": {\"labelColor\": \"#444444\", \"titleColor\": \"#444444\"}, \"range\": {\"category\": [\"#228C22\", \"#5f249f\", \"#FF0000\", \"#ffff00\", \"#00FFFF\", \"#000000\", \"#FFFFFF\"]}, \"area\": {\"line\": true, \"fillOpacity\": 0.4}, \"line\": {\"strokeWidth\": 2}}, \"layer\": [{\"mark\": \"area\", \"encoding\": {\"color\": {\"type\": \"nominal\", \"field\": \"z\", \"title\": \"PCAs\"}, \"x\": {\"type\": \"quantitative\", \"axis\": {\"tickMinStep\": 1}, \"field\": \"x\", \"title\": \"Number of Components\"}, \"y\": {\"type\": \"quantitative\", \"field\": \"y\", \"title\": \"Time in seconds\"}}}, {\"layer\": [{\"mark\": {\"type\": \"line\", \"opacity\": 0.05, \"strokeWidth\": 3.05}, \"encoding\": {\"color\": {\"type\": \"nominal\", \"field\": \"z\", \"title\": \"PCAs\"}, \"x\": {\"type\": \"quantitative\", \"axis\": {\"tickMinStep\": 1}, \"field\": \"x\", \"title\": \"Number of Components\"}, \"y\": {\"type\": \"quantitative\", \"field\": \"y\", \"title\": \"Time in seconds\"}}}, {\"mark\": {\"type\": \"line\", \"opacity\": 0.05, \"strokeWidth\": 4.1}, \"encoding\": {\"color\": {\"type\": \"nominal\", \"field\": \"z\", \"title\": \"PCAs\"}, \"x\": {\"type\": \"quantitative\", \"axis\": {\"tickMinStep\": 1}, \"field\": \"x\", \"title\": \"Number of Components\"}, \"y\": {\"type\": \"quantitative\", \"field\": \"y\", \"title\": \"Time in seconds\"}}}, {\"mark\": {\"type\": \"line\", \"opacity\": 0.05, \"strokeWidth\": 5.15}, \"encoding\": {\"color\": {\"type\": \"nominal\", \"field\": \"z\", \"title\": \"PCAs\"}, \"x\": {\"type\": \"quantitative\", \"axis\": {\"tickMinStep\": 1}, \"field\": \"x\", \"title\": \"Number of Components\"}, \"y\": {\"type\": \"quantitative\", \"field\": \"y\", \"title\": \"Time in seconds\"}}}, {\"mark\": {\"type\": \"line\", \"opacity\": 0.05, \"strokeWidth\": 6.2}, \"encoding\": {\"color\": {\"type\": \"nominal\", \"field\": \"z\", \"title\": \"PCAs\"}, \"x\": {\"type\": \"quantitative\", \"axis\": {\"tickMinStep\": 1}, \"field\": \"x\", \"title\": \"Number of Components\"}, \"y\": {\"type\": \"quantitative\", \"field\": \"y\", \"title\": \"Time in seconds\"}}}, {\"mark\": {\"type\": \"line\", \"opacity\": 0.05, \"strokeWidth\": 7.25}, \"encoding\": {\"color\": {\"type\": \"nominal\", \"field\": \"z\", \"title\": \"PCAs\"}, \"x\": {\"type\": \"quantitative\", \"axis\": {\"tickMinStep\": 1}, \"field\": \"x\", \"title\": \"Number of Components\"}, \"y\": {\"type\": \"quantitative\", \"field\": \"y\", \"title\": \"Time in seconds\"}}}, {\"mark\": {\"type\": \"line\", \"opacity\": 0.05, \"strokeWidth\": 8.3}, \"encoding\": {\"color\": {\"type\": \"nominal\", \"field\": \"z\", \"title\": \"PCAs\"}, \"x\": {\"type\": \"quantitative\", \"axis\": {\"tickMinStep\": 1}, \"field\": \"x\", \"title\": \"Number of Components\"}, \"y\": {\"type\": \"quantitative\", \"field\": \"y\", \"title\": \"Time in seconds\"}}}, {\"mark\": {\"type\": \"line\", \"opacity\": 0.05, \"strokeWidth\": 9.350000000000001}, \"encoding\": {\"color\": {\"type\": \"nominal\", \"field\": \"z\", \"title\": \"PCAs\"}, \"x\": {\"type\": \"quantitative\", \"axis\": {\"tickMinStep\": 1}, \"field\": \"x\", \"title\": \"Number of Components\"}, \"y\": {\"type\": \"quantitative\", \"field\": \"y\", \"title\": \"Time in seconds\"}}}, {\"mark\": {\"type\": \"line\", \"opacity\": 0.05, \"strokeWidth\": 10.4}, \"encoding\": {\"color\": {\"type\": \"nominal\", \"field\": \"z\", \"title\": \"PCAs\"}, \"x\": {\"type\": \"quantitative\", \"axis\": {\"tickMinStep\": 1}, \"field\": \"x\", \"title\": \"Number of Components\"}, \"y\": {\"type\": \"quantitative\", \"field\": \"y\", \"title\": \"Time in seconds\"}}}, {\"mark\": {\"type\": \"line\", \"opacity\": 0.05, \"strokeWidth\": 11.450000000000001}, \"encoding\": {\"color\": {\"type\": \"nominal\", \"field\": \"z\", \"title\": \"PCAs\"}, \"x\": {\"type\": \"quantitative\", \"axis\": {\"tickMinStep\": 1}, \"field\": \"x\", \"title\": \"Number of Components\"}, \"y\": {\"type\": \"quantitative\", \"field\": \"y\", \"title\": \"Time in seconds\"}}}, {\"mark\": {\"type\": \"line\", \"opacity\": 0.05, \"strokeWidth\": 12.5}, \"encoding\": {\"color\": {\"type\": \"nominal\", \"field\": \"z\", \"title\": \"PCAs\"}, \"x\": {\"type\": \"quantitative\", \"axis\": {\"tickMinStep\": 1}, \"field\": \"x\", \"title\": \"Number of Components\"}, \"y\": {\"type\": \"quantitative\", \"field\": \"y\", \"title\": \"Time in seconds\"}}}]}], \"data\": {\"name\": \"data-50f7d66e188bc43cf4d0c6a401382d2d\"}, \"$schema\": \"https://vega.github.io/schema/vega-lite/v4.8.1.json\", \"datasets\": {\"data-50f7d66e188bc43cf4d0c6a401382d2d\": [{\"x\": 1, \"y\": 0.2259, \"z\": \"RandomForest\"}, {\"x\": 1, \"y\": 0.2704, \"z\": \"LinearSVC\"}, {\"x\": 1, \"y\": 0.2586, \"z\": \"KNN\"}, {\"x\": 1, \"y\": 0.291, \"z\": \"GausianNB\"}, {\"x\": 1, \"y\": 0.2259, \"z\": \"DecisionTree\"}, {\"x\": 2, \"y\": 0.3219, \"z\": \"RandomForest\"}, {\"x\": 2, \"y\": 0.3223, \"z\": \"LinearSVC\"}, {\"x\": 2, \"y\": 0.312, \"z\": \"KNN\"}, {\"x\": 2, \"y\": 0.3299, \"z\": \"GausianNB\"}, {\"x\": 2, \"y\": 0.2821, \"z\": \"DecisionTree\"}, {\"x\": 3, \"y\": 0.5407, \"z\": \"RandomForest\"}, {\"x\": 3, \"y\": 0.4305, \"z\": \"LinearSVC\"}, {\"x\": 3, \"y\": 0.5129, \"z\": \"KNN\"}, {\"x\": 3, \"y\": 0.4998, \"z\": \"GausianNB\"}, {\"x\": 3, \"y\": 0.457, \"z\": \"DecisionTree\"}, {\"x\": 4, \"y\": 0.6947, \"z\": \"RandomForest\"}, {\"x\": 4, \"y\": 0.5625, \"z\": \"LinearSVC\"}, {\"x\": 4, \"y\": 0.6722, \"z\": \"KNN\"}, {\"x\": 4, \"y\": 0.6177, \"z\": \"GausianNB\"}, {\"x\": 4, \"y\": 0.6063, \"z\": \"DecisionTree\"}, {\"x\": 5, \"y\": 0.7629, \"z\": \"RandomForest\"}, {\"x\": 5, \"y\": 0.6262, \"z\": \"LinearSVC\"}, {\"x\": 5, \"y\": 0.7467, \"z\": \"KNN\"}, {\"x\": 5, \"y\": 0.6804, \"z\": \"GausianNB\"}, {\"x\": 5, \"y\": 0.6766, \"z\": \"DecisionTree\"}, {\"x\": 6, \"y\": 0.8431, \"z\": \"RandomForest\"}, {\"x\": 6, \"y\": 0.6986, \"z\": \"LinearSVC\"}, {\"x\": 6, \"y\": 0.8367, \"z\": \"KNN\"}, {\"x\": 6, \"y\": 0.7317, \"z\": \"GausianNB\"}, {\"x\": 6, \"y\": 0.7606, \"z\": \"DecisionTree\"}, {\"x\": 7, \"y\": 0.8566, \"z\": \"RandomForest\"}, {\"x\": 7, \"y\": 0.7122, \"z\": \"LinearSVC\"}, {\"x\": 7, \"y\": 0.851, \"z\": \"KNN\"}, {\"x\": 7, \"y\": 0.7367, \"z\": \"GausianNB\"}, {\"x\": 7, \"y\": 0.7708, \"z\": \"DecisionTree\"}, {\"x\": 8, \"y\": 0.8802, \"z\": \"RandomForest\"}, {\"x\": 8, \"y\": 0.7512, \"z\": \"LinearSVC\"}, {\"x\": 8, \"y\": 0.8816, \"z\": \"KNN\"}, {\"x\": 8, \"y\": 0.7609, \"z\": \"GausianNB\"}, {\"x\": 8, \"y\": 0.8007, \"z\": \"DecisionTree\"}, {\"x\": 9, \"y\": 0.8944, \"z\": \"RandomForest\"}, {\"x\": 9, \"y\": 0.7768, \"z\": \"LinearSVC\"}, {\"x\": 9, \"y\": 0.8947, \"z\": \"KNN\"}, {\"x\": 9, \"y\": 0.7777, \"z\": \"GausianNB\"}, {\"x\": 9, \"y\": 0.8092, \"z\": \"DecisionTree\"}, {\"x\": 10, \"y\": 0.9079, \"z\": \"RandomForest\"}, {\"x\": 10, \"y\": 0.7936, \"z\": \"LinearSVC\"}, {\"x\": 10, \"y\": 0.9158, \"z\": \"KNN\"}, {\"x\": 10, \"y\": 0.7871, \"z\": \"GausianNB\"}, {\"x\": 10, \"y\": 0.8214, \"z\": \"DecisionTree\"}, {\"x\": 11, \"y\": 0.9157, \"z\": \"RandomForest\"}, {\"x\": 11, \"y\": 0.8003, \"z\": \"LinearSVC\"}, {\"x\": 11, \"y\": 0.9216, \"z\": \"KNN\"}, {\"x\": 11, \"y\": 0.7864, \"z\": \"GausianNB\"}, {\"x\": 11, \"y\": 0.8245, \"z\": \"DecisionTree\"}, {\"x\": 12, \"y\": 0.9178, \"z\": \"RandomForest\"}, {\"x\": 12, \"y\": 0.8106, \"z\": \"LinearSVC\"}, {\"x\": 12, \"y\": 0.9272, \"z\": \"KNN\"}, {\"x\": 12, \"y\": 0.7909, \"z\": \"GausianNB\"}, {\"x\": 12, \"y\": 0.8301, \"z\": \"DecisionTree\"}, {\"x\": 13, \"y\": 0.9264, \"z\": \"RandomForest\"}, {\"x\": 13, \"y\": 0.8268, \"z\": \"LinearSVC\"}, {\"x\": 13, \"y\": 0.9363, \"z\": \"KNN\"}, {\"x\": 13, \"y\": 0.8014, \"z\": \"GausianNB\"}, {\"x\": 13, \"y\": 0.8393, \"z\": \"DecisionTree\"}, {\"x\": 14, \"y\": 0.9285, \"z\": \"RandomForest\"}, {\"x\": 14, \"y\": 0.8311, \"z\": \"LinearSVC\"}, {\"x\": 14, \"y\": 0.9391, \"z\": \"KNN\"}, {\"x\": 14, \"y\": 0.8076, \"z\": \"GausianNB\"}, {\"x\": 14, \"y\": 0.8418, \"z\": \"DecisionTree\"}, {\"x\": 15, \"y\": 0.9317, \"z\": \"RandomForest\"}, {\"x\": 15, \"y\": 0.8369, \"z\": \"LinearSVC\"}, {\"x\": 15, \"y\": 0.9411, \"z\": \"KNN\"}, {\"x\": 15, \"y\": 0.8091, \"z\": \"GausianNB\"}, {\"x\": 15, \"y\": 0.8428, \"z\": \"DecisionTree\"}, {\"x\": 16, \"y\": 0.9342, \"z\": \"RandomForest\"}, {\"x\": 16, \"y\": 0.8402, \"z\": \"LinearSVC\"}, {\"x\": 16, \"y\": 0.9406, \"z\": \"KNN\"}, {\"x\": 16, \"y\": 0.8172, \"z\": \"GausianNB\"}, {\"x\": 16, \"y\": 0.8424, \"z\": \"DecisionTree\"}, {\"x\": 17, \"y\": 0.934, \"z\": \"RandomForest\"}, {\"x\": 17, \"y\": 0.8476, \"z\": \"LinearSVC\"}, {\"x\": 17, \"y\": 0.9429, \"z\": \"KNN\"}, {\"x\": 17, \"y\": 0.8172, \"z\": \"GausianNB\"}, {\"x\": 17, \"y\": 0.8454, \"z\": \"DecisionTree\"}, {\"x\": 18, \"y\": 0.9362, \"z\": \"RandomForest\"}, {\"x\": 18, \"y\": 0.8487, \"z\": \"LinearSVC\"}, {\"x\": 18, \"y\": 0.9431, \"z\": \"KNN\"}, {\"x\": 18, \"y\": 0.8151, \"z\": \"GausianNB\"}, {\"x\": 18, \"y\": 0.8463, \"z\": \"DecisionTree\"}, {\"x\": 19, \"y\": 0.9378, \"z\": \"RandomForest\"}, {\"x\": 19, \"y\": 0.8586, \"z\": \"LinearSVC\"}, {\"x\": 19, \"y\": 0.9463, \"z\": \"KNN\"}, {\"x\": 19, \"y\": 0.822, \"z\": \"GausianNB\"}, {\"x\": 19, \"y\": 0.8443, \"z\": \"DecisionTree\"}, {\"x\": 20, \"y\": 0.9372, \"z\": \"RandomForest\"}, {\"x\": 20, \"y\": 0.8628, \"z\": \"LinearSVC\"}, {\"x\": 20, \"y\": 0.9463, \"z\": \"KNN\"}, {\"x\": 20, \"y\": 0.8202, \"z\": \"GausianNB\"}, {\"x\": 20, \"y\": 0.8496, \"z\": \"DecisionTree\"}, {\"x\": 21, \"y\": 0.9379, \"z\": \"RandomForest\"}, {\"x\": 21, \"y\": 0.8613, \"z\": \"LinearSVC\"}, {\"x\": 21, \"y\": 0.9468, \"z\": \"KNN\"}, {\"x\": 21, \"y\": 0.8195, \"z\": \"GausianNB\"}, {\"x\": 21, \"y\": 0.849, \"z\": \"DecisionTree\"}, {\"x\": 22, \"y\": 0.9401, \"z\": \"RandomForest\"}, {\"x\": 22, \"y\": 0.8608, \"z\": \"LinearSVC\"}, {\"x\": 22, \"y\": 0.9499, \"z\": \"KNN\"}, {\"x\": 22, \"y\": 0.8163, \"z\": \"GausianNB\"}, {\"x\": 22, \"y\": 0.8485, \"z\": \"DecisionTree\"}, {\"x\": 23, \"y\": 0.9403, \"z\": \"RandomForest\"}, {\"x\": 23, \"y\": 0.8666, \"z\": \"LinearSVC\"}, {\"x\": 23, \"y\": 0.95, \"z\": \"KNN\"}, {\"x\": 23, \"y\": 0.8155, \"z\": \"GausianNB\"}, {\"x\": 23, \"y\": 0.8465, \"z\": \"DecisionTree\"}, {\"x\": 24, \"y\": 0.9397, \"z\": \"RandomForest\"}, {\"x\": 24, \"y\": 0.8685, \"z\": \"LinearSVC\"}, {\"x\": 24, \"y\": 0.9496, \"z\": \"KNN\"}, {\"x\": 24, \"y\": 0.8147, \"z\": \"GausianNB\"}, {\"x\": 24, \"y\": 0.8552, \"z\": \"DecisionTree\"}, {\"x\": 25, \"y\": 0.9416, \"z\": \"RandomForest\"}, {\"x\": 25, \"y\": 0.8739, \"z\": \"LinearSVC\"}, {\"x\": 25, \"y\": 0.9512, \"z\": \"KNN\"}, {\"x\": 25, \"y\": 0.8131, \"z\": \"GausianNB\"}, {\"x\": 25, \"y\": 0.8444, \"z\": \"DecisionTree\"}, {\"x\": 26, \"y\": 0.9413, \"z\": \"RandomForest\"}, {\"x\": 26, \"y\": 0.8765, \"z\": \"LinearSVC\"}, {\"x\": 26, \"y\": 0.9542, \"z\": \"KNN\"}, {\"x\": 26, \"y\": 0.8158, \"z\": \"GausianNB\"}, {\"x\": 26, \"y\": 0.85, \"z\": \"DecisionTree\"}, {\"x\": 27, \"y\": 0.9433, \"z\": \"RandomForest\"}, {\"x\": 27, \"y\": 0.8782, \"z\": \"LinearSVC\"}, {\"x\": 27, \"y\": 0.9543, \"z\": \"KNN\"}, {\"x\": 27, \"y\": 0.8117, \"z\": \"GausianNB\"}, {\"x\": 27, \"y\": 0.8471, \"z\": \"DecisionTree\"}, {\"x\": 28, \"y\": 0.9437, \"z\": \"RandomForest\"}, {\"x\": 28, \"y\": 0.8792, \"z\": \"LinearSVC\"}, {\"x\": 28, \"y\": 0.9551, \"z\": \"KNN\"}, {\"x\": 28, \"y\": 0.8107, \"z\": \"GausianNB\"}, {\"x\": 28, \"y\": 0.8515, \"z\": \"DecisionTree\"}, {\"x\": 29, \"y\": 0.9454, \"z\": \"RandomForest\"}, {\"x\": 29, \"y\": 0.8839, \"z\": \"LinearSVC\"}, {\"x\": 29, \"y\": 0.9545, \"z\": \"KNN\"}, {\"x\": 29, \"y\": 0.8059, \"z\": \"GausianNB\"}, {\"x\": 29, \"y\": 0.8455, \"z\": \"DecisionTree\"}, {\"x\": 30, \"y\": 0.9444, \"z\": \"RandomForest\"}, {\"x\": 30, \"y\": 0.8826, \"z\": \"LinearSVC\"}, {\"x\": 30, \"y\": 0.9549, \"z\": \"KNN\"}, {\"x\": 30, \"y\": 0.8036, \"z\": \"GausianNB\"}, {\"x\": 30, \"y\": 0.8477, \"z\": \"DecisionTree\"}]}}, {\"mode\": \"vega-lite\"});\n",
       "</script>"
      ],
      "text/plain": [
       "alt.LayerChart(...)"
      ]
     },
     "execution_count": 9,
     "metadata": {},
     "output_type": "execute_result"
    }
   ],
   "source": [
    "alt.renderers.enable('default'); plotter(clf_test, \"accuracy\", (\"Number of Components\", \"Time in seconds\", \"PCAs\"))"
   ]
  },
  {
   "cell_type": "markdown",
   "id": "b078284f",
   "metadata": {},
   "source": [
    "## Compare <ins>Execution Time</ins>"
   ]
  },
  {
   "cell_type": "code",
   "execution_count": 10,
   "id": "5fa6551a",
   "metadata": {},
   "outputs": [
    {
     "data": {
      "text/html": [
       "\n",
       "<div id=\"altair-viz-8396ccc5d38c48ebb197ffa03660344c\"></div>\n",
       "<script type=\"text/javascript\">\n",
       "  (function(spec, embedOpt){\n",
       "    let outputDiv = document.currentScript.previousElementSibling;\n",
       "    if (outputDiv.id !== \"altair-viz-8396ccc5d38c48ebb197ffa03660344c\") {\n",
       "      outputDiv = document.getElementById(\"altair-viz-8396ccc5d38c48ebb197ffa03660344c\");\n",
       "    }\n",
       "    const paths = {\n",
       "      \"vega\": \"https://cdn.jsdelivr.net/npm//vega@5?noext\",\n",
       "      \"vega-lib\": \"https://cdn.jsdelivr.net/npm//vega-lib?noext\",\n",
       "      \"vega-lite\": \"https://cdn.jsdelivr.net/npm//vega-lite@4.8.1?noext\",\n",
       "      \"vega-embed\": \"https://cdn.jsdelivr.net/npm//vega-embed@6?noext\",\n",
       "    };\n",
       "\n",
       "    function loadScript(lib) {\n",
       "      return new Promise(function(resolve, reject) {\n",
       "        var s = document.createElement('script');\n",
       "        s.src = paths[lib];\n",
       "        s.async = true;\n",
       "        s.onload = () => resolve(paths[lib]);\n",
       "        s.onerror = () => reject(`Error loading script: ${paths[lib]}`);\n",
       "        document.getElementsByTagName(\"head\")[0].appendChild(s);\n",
       "      });\n",
       "    }\n",
       "\n",
       "    function showError(err) {\n",
       "      outputDiv.innerHTML = `<div class=\"error\" style=\"color:red;\">${err}</div>`;\n",
       "      throw err;\n",
       "    }\n",
       "\n",
       "    function displayChart(vegaEmbed) {\n",
       "      vegaEmbed(outputDiv, spec, embedOpt)\n",
       "        .catch(err => showError(`Javascript Error: ${err.message}<br>This usually means there's a typo in your chart specification. See the javascript console for the full traceback.`));\n",
       "    }\n",
       "\n",
       "    if(typeof define === \"function\" && define.amd) {\n",
       "      requirejs.config({paths});\n",
       "      require([\"vega-embed\"], displayChart, err => showError(`Error loading script: ${err.message}`));\n",
       "    } else if (typeof vegaEmbed === \"function\") {\n",
       "      displayChart(vegaEmbed);\n",
       "    } else {\n",
       "      loadScript(\"vega\")\n",
       "        .then(() => loadScript(\"vega-lite\"))\n",
       "        .then(() => loadScript(\"vega-embed\"))\n",
       "        .catch(showError)\n",
       "        .then(() => displayChart(vegaEmbed));\n",
       "    }\n",
       "  })({\"config\": {\"view\": {\"continuousWidth\": 800, \"continuousHeight\": 400}, \"background\": \"#efefef\", \"axis\": {\"gridColor\": \"#ffffff\", \"domainColor\": null, \"tickColor\": null, \"labelColor\": \"#444444\", \"titleColor\": \"#444444\"}, \"legend\": {\"labelColor\": \"#444444\", \"titleColor\": \"#444444\"}, \"range\": {\"category\": [\"#228C22\", \"#5f249f\", \"#FF0000\", \"#ffff00\", \"#00FFFF\", \"#000000\", \"#FFFFFF\"]}, \"area\": {\"line\": true, \"fillOpacity\": 0.4}, \"line\": {\"strokeWidth\": 2}}, \"layer\": [{\"mark\": \"area\", \"encoding\": {\"color\": {\"type\": \"nominal\", \"field\": \"z\", \"title\": \"PCAs\"}, \"x\": {\"type\": \"quantitative\", \"axis\": {\"tickMinStep\": 1}, \"field\": \"x\", \"title\": \"Number of Components\"}, \"y\": {\"type\": \"quantitative\", \"field\": \"y\", \"title\": \"Time in seconds\"}}}, {\"layer\": [{\"mark\": {\"type\": \"line\", \"opacity\": 0.05, \"strokeWidth\": 3.05}, \"encoding\": {\"color\": {\"type\": \"nominal\", \"field\": \"z\", \"title\": \"PCAs\"}, \"x\": {\"type\": \"quantitative\", \"axis\": {\"tickMinStep\": 1}, \"field\": \"x\", \"title\": \"Number of Components\"}, \"y\": {\"type\": \"quantitative\", \"field\": \"y\", \"title\": \"Time in seconds\"}}}, {\"mark\": {\"type\": \"line\", \"opacity\": 0.05, \"strokeWidth\": 4.1}, \"encoding\": {\"color\": {\"type\": \"nominal\", \"field\": \"z\", \"title\": \"PCAs\"}, \"x\": {\"type\": \"quantitative\", \"axis\": {\"tickMinStep\": 1}, \"field\": \"x\", \"title\": \"Number of Components\"}, \"y\": {\"type\": \"quantitative\", \"field\": \"y\", \"title\": \"Time in seconds\"}}}, {\"mark\": {\"type\": \"line\", \"opacity\": 0.05, \"strokeWidth\": 5.15}, \"encoding\": {\"color\": {\"type\": \"nominal\", \"field\": \"z\", \"title\": \"PCAs\"}, \"x\": {\"type\": \"quantitative\", \"axis\": {\"tickMinStep\": 1}, \"field\": \"x\", \"title\": \"Number of Components\"}, \"y\": {\"type\": \"quantitative\", \"field\": \"y\", \"title\": \"Time in seconds\"}}}, {\"mark\": {\"type\": \"line\", \"opacity\": 0.05, \"strokeWidth\": 6.2}, \"encoding\": {\"color\": {\"type\": \"nominal\", \"field\": \"z\", \"title\": \"PCAs\"}, \"x\": {\"type\": \"quantitative\", \"axis\": {\"tickMinStep\": 1}, \"field\": \"x\", \"title\": \"Number of Components\"}, \"y\": {\"type\": \"quantitative\", \"field\": \"y\", \"title\": \"Time in seconds\"}}}, {\"mark\": {\"type\": \"line\", \"opacity\": 0.05, \"strokeWidth\": 7.25}, \"encoding\": {\"color\": {\"type\": \"nominal\", \"field\": \"z\", \"title\": \"PCAs\"}, \"x\": {\"type\": \"quantitative\", \"axis\": {\"tickMinStep\": 1}, \"field\": \"x\", \"title\": \"Number of Components\"}, \"y\": {\"type\": \"quantitative\", \"field\": \"y\", \"title\": \"Time in seconds\"}}}, {\"mark\": {\"type\": \"line\", \"opacity\": 0.05, \"strokeWidth\": 8.3}, \"encoding\": {\"color\": {\"type\": \"nominal\", \"field\": \"z\", \"title\": \"PCAs\"}, \"x\": {\"type\": \"quantitative\", \"axis\": {\"tickMinStep\": 1}, \"field\": \"x\", \"title\": \"Number of Components\"}, \"y\": {\"type\": \"quantitative\", \"field\": \"y\", \"title\": \"Time in seconds\"}}}, {\"mark\": {\"type\": \"line\", \"opacity\": 0.05, \"strokeWidth\": 9.350000000000001}, \"encoding\": {\"color\": {\"type\": \"nominal\", \"field\": \"z\", \"title\": \"PCAs\"}, \"x\": {\"type\": \"quantitative\", \"axis\": {\"tickMinStep\": 1}, \"field\": \"x\", \"title\": \"Number of Components\"}, \"y\": {\"type\": \"quantitative\", \"field\": \"y\", \"title\": \"Time in seconds\"}}}, {\"mark\": {\"type\": \"line\", \"opacity\": 0.05, \"strokeWidth\": 10.4}, \"encoding\": {\"color\": {\"type\": \"nominal\", \"field\": \"z\", \"title\": \"PCAs\"}, \"x\": {\"type\": \"quantitative\", \"axis\": {\"tickMinStep\": 1}, \"field\": \"x\", \"title\": \"Number of Components\"}, \"y\": {\"type\": \"quantitative\", \"field\": \"y\", \"title\": \"Time in seconds\"}}}, {\"mark\": {\"type\": \"line\", \"opacity\": 0.05, \"strokeWidth\": 11.450000000000001}, \"encoding\": {\"color\": {\"type\": \"nominal\", \"field\": \"z\", \"title\": \"PCAs\"}, \"x\": {\"type\": \"quantitative\", \"axis\": {\"tickMinStep\": 1}, \"field\": \"x\", \"title\": \"Number of Components\"}, \"y\": {\"type\": \"quantitative\", \"field\": \"y\", \"title\": \"Time in seconds\"}}}, {\"mark\": {\"type\": \"line\", \"opacity\": 0.05, \"strokeWidth\": 12.5}, \"encoding\": {\"color\": {\"type\": \"nominal\", \"field\": \"z\", \"title\": \"PCAs\"}, \"x\": {\"type\": \"quantitative\", \"axis\": {\"tickMinStep\": 1}, \"field\": \"x\", \"title\": \"Number of Components\"}, \"y\": {\"type\": \"quantitative\", \"field\": \"y\", \"title\": \"Time in seconds\"}}}]}], \"data\": {\"name\": \"data-db03072c9363860b0ae3f2033cd61a41\"}, \"$schema\": \"https://vega.github.io/schema/vega-lite/v4.8.1.json\", \"datasets\": {\"data-db03072c9363860b0ae3f2033cd61a41\": [{\"x\": 1, \"y\": 0.4956016540527344, \"z\": \"RandomForest\"}, {\"x\": 1, \"y\": 0.0021457672119140625, \"z\": \"LinearSVC\"}, {\"x\": 1, \"y\": 0.27110791206359863, \"z\": \"KNN\"}, {\"x\": 1, \"y\": 0.0017802715301513672, \"z\": \"GausianNB\"}, {\"x\": 1, \"y\": 0.0054056644439697266, \"z\": \"DecisionTree\"}, {\"x\": 2, \"y\": 0.35852551460266113, \"z\": \"RandomForest\"}, {\"x\": 2, \"y\": 0.0021038055419921875, \"z\": \"LinearSVC\"}, {\"x\": 2, \"y\": 0.30215001106262207, \"z\": \"KNN\"}, {\"x\": 2, \"y\": 0.00549006462097168, \"z\": \"GausianNB\"}, {\"x\": 2, \"y\": 0.005654096603393555, \"z\": \"DecisionTree\"}, {\"x\": 3, \"y\": 0.297990083694458, \"z\": \"RandomForest\"}, {\"x\": 3, \"y\": 0.0035545825958251953, \"z\": \"LinearSVC\"}, {\"x\": 3, \"y\": 0.3094816207885742, \"z\": \"KNN\"}, {\"x\": 3, \"y\": 0.0047800540924072266, \"z\": \"GausianNB\"}, {\"x\": 3, \"y\": 0.004156351089477539, \"z\": \"DecisionTree\"}, {\"x\": 4, \"y\": 0.27316856384277344, \"z\": \"RandomForest\"}, {\"x\": 4, \"y\": 0.003439188003540039, \"z\": \"LinearSVC\"}, {\"x\": 4, \"y\": 0.3489112854003906, \"z\": \"KNN\"}, {\"x\": 4, \"y\": 0.005427837371826172, \"z\": \"GausianNB\"}, {\"x\": 4, \"y\": 0.0035753250122070312, \"z\": \"DecisionTree\"}, {\"x\": 5, \"y\": 0.253101110458374, \"z\": \"RandomForest\"}, {\"x\": 5, \"y\": 0.0034067630767822266, \"z\": \"LinearSVC\"}, {\"x\": 5, \"y\": 0.505300760269165, \"z\": \"KNN\"}, {\"x\": 5, \"y\": 0.005295276641845703, \"z\": \"GausianNB\"}, {\"x\": 5, \"y\": 0.0032007694244384766, \"z\": \"DecisionTree\"}, {\"x\": 6, \"y\": 0.23191380500793457, \"z\": \"RandomForest\"}, {\"x\": 6, \"y\": 0.017361879348754883, \"z\": \"LinearSVC\"}, {\"x\": 6, \"y\": 0.7844853401184082, \"z\": \"KNN\"}, {\"x\": 6, \"y\": 0.0075719356536865234, \"z\": \"GausianNB\"}, {\"x\": 6, \"y\": 0.0031130313873291016, \"z\": \"DecisionTree\"}, {\"x\": 7, \"y\": 0.23732519149780273, \"z\": \"RandomForest\"}, {\"x\": 7, \"y\": 0.00380706787109375, \"z\": \"LinearSVC\"}, {\"x\": 7, \"y\": 0.561821460723877, \"z\": \"KNN\"}, {\"x\": 7, \"y\": 0.005999326705932617, \"z\": \"GausianNB\"}, {\"x\": 7, \"y\": 0.003100872039794922, \"z\": \"DecisionTree\"}, {\"x\": 8, \"y\": 0.22869038581848145, \"z\": \"RandomForest\"}, {\"x\": 8, \"y\": 0.01197195053100586, \"z\": \"LinearSVC\"}, {\"x\": 8, \"y\": 0.8424577713012695, \"z\": \"KNN\"}, {\"x\": 8, \"y\": 0.005795955657958984, \"z\": \"GausianNB\"}, {\"x\": 8, \"y\": 0.003013134002685547, \"z\": \"DecisionTree\"}, {\"x\": 9, \"y\": 0.2258913516998291, \"z\": \"RandomForest\"}, {\"x\": 9, \"y\": 0.004020214080810547, \"z\": \"LinearSVC\"}, {\"x\": 9, \"y\": 1.0351347923278809, \"z\": \"KNN\"}, {\"x\": 9, \"y\": 0.006460666656494141, \"z\": \"GausianNB\"}, {\"x\": 9, \"y\": 0.003018617630004883, \"z\": \"DecisionTree\"}, {\"x\": 10, \"y\": 0.2212693691253662, \"z\": \"RandomForest\"}, {\"x\": 10, \"y\": 0.004071474075317383, \"z\": \"LinearSVC\"}, {\"x\": 10, \"y\": 1.3417978286743164, \"z\": \"KNN\"}, {\"x\": 10, \"y\": 0.006613731384277344, \"z\": \"GausianNB\"}, {\"x\": 10, \"y\": 0.0030634403228759766, \"z\": \"DecisionTree\"}, {\"x\": 11, \"y\": 0.2201523780822754, \"z\": \"RandomForest\"}, {\"x\": 11, \"y\": 0.0038771629333496094, \"z\": \"LinearSVC\"}, {\"x\": 11, \"y\": 1.5885097980499268, \"z\": \"KNN\"}, {\"x\": 11, \"y\": 0.007109880447387695, \"z\": \"GausianNB\"}, {\"x\": 11, \"y\": 0.003219127655029297, \"z\": \"DecisionTree\"}, {\"x\": 12, \"y\": 0.2265172004699707, \"z\": \"RandomForest\"}, {\"x\": 12, \"y\": 0.003896951675415039, \"z\": \"LinearSVC\"}, {\"x\": 12, \"y\": 2.1786675453186035, \"z\": \"KNN\"}, {\"x\": 12, \"y\": 0.007299900054931641, \"z\": \"GausianNB\"}, {\"x\": 12, \"y\": 0.0030088424682617188, \"z\": \"DecisionTree\"}, {\"x\": 13, \"y\": 0.2268829345703125, \"z\": \"RandomForest\"}, {\"x\": 13, \"y\": 0.003847837448120117, \"z\": \"LinearSVC\"}, {\"x\": 13, \"y\": 2.379472017288208, \"z\": \"KNN\"}, {\"x\": 13, \"y\": 0.0075337886810302734, \"z\": \"GausianNB\"}, {\"x\": 13, \"y\": 0.003119230270385742, \"z\": \"DecisionTree\"}, {\"x\": 14, \"y\": 0.22472286224365234, \"z\": \"RandomForest\"}, {\"x\": 14, \"y\": 0.0039408206939697266, \"z\": \"LinearSVC\"}, {\"x\": 14, \"y\": 3.0622992515563965, \"z\": \"KNN\"}, {\"x\": 14, \"y\": 0.007809877395629883, \"z\": \"GausianNB\"}, {\"x\": 14, \"y\": 0.003042936325073242, \"z\": \"DecisionTree\"}, {\"x\": 15, \"y\": 0.22515463829040527, \"z\": \"RandomForest\"}, {\"x\": 15, \"y\": 0.003690958023071289, \"z\": \"LinearSVC\"}, {\"x\": 15, \"y\": 3.8162753582000732, \"z\": \"KNN\"}, {\"x\": 15, \"y\": 0.011541366577148438, \"z\": \"GausianNB\"}, {\"x\": 15, \"y\": 0.0031545162200927734, \"z\": \"DecisionTree\"}, {\"x\": 16, \"y\": 0.2237703800201416, \"z\": \"RandomForest\"}, {\"x\": 16, \"y\": 0.011723041534423828, \"z\": \"LinearSVC\"}, {\"x\": 16, \"y\": 14.368322134017944, \"z\": \"KNN\"}, {\"x\": 16, \"y\": 0.008555412292480469, \"z\": \"GausianNB\"}, {\"x\": 16, \"y\": 0.0030469894409179688, \"z\": \"DecisionTree\"}, {\"x\": 17, \"y\": 0.2179570198059082, \"z\": \"RandomForest\"}, {\"x\": 17, \"y\": 0.0040435791015625, \"z\": \"LinearSVC\"}, {\"x\": 17, \"y\": 8.830405235290527, \"z\": \"KNN\"}, {\"x\": 17, \"y\": 0.01260519027709961, \"z\": \"GausianNB\"}, {\"x\": 17, \"y\": 0.0031943321228027344, \"z\": \"DecisionTree\"}, {\"x\": 18, \"y\": 0.8799333572387695, \"z\": \"RandomForest\"}, {\"x\": 18, \"y\": 0.011955738067626953, \"z\": \"LinearSVC\"}, {\"x\": 18, \"y\": 8.800677299499512, \"z\": \"KNN\"}, {\"x\": 18, \"y\": 0.008869171142578125, \"z\": \"GausianNB\"}, {\"x\": 18, \"y\": 0.003789663314819336, \"z\": \"DecisionTree\"}, {\"x\": 19, \"y\": 0.22660017013549805, \"z\": \"RandomForest\"}, {\"x\": 19, \"y\": 0.011860847473144531, \"z\": \"LinearSVC\"}, {\"x\": 19, \"y\": 8.915721416473389, \"z\": \"KNN\"}, {\"x\": 19, \"y\": 0.00929713249206543, \"z\": \"GausianNB\"}, {\"x\": 19, \"y\": 0.003170490264892578, \"z\": \"DecisionTree\"}, {\"x\": 20, \"y\": 0.223283052444458, \"z\": \"RandomForest\"}, {\"x\": 20, \"y\": 0.004434347152709961, \"z\": \"LinearSVC\"}, {\"x\": 20, \"y\": 9.80383014678955, \"z\": \"KNN\"}, {\"x\": 20, \"y\": 0.009859323501586914, \"z\": \"GausianNB\"}, {\"x\": 20, \"y\": 0.0032570362091064453, \"z\": \"DecisionTree\"}, {\"x\": 21, \"y\": 0.23837709426879883, \"z\": \"RandomForest\"}, {\"x\": 21, \"y\": 0.004090547561645508, \"z\": \"LinearSVC\"}, {\"x\": 21, \"y\": 8.91284441947937, \"z\": \"KNN\"}, {\"x\": 21, \"y\": 0.010894298553466797, \"z\": \"GausianNB\"}, {\"x\": 21, \"y\": 0.003184080123901367, \"z\": \"DecisionTree\"}, {\"x\": 22, \"y\": 0.2298445701599121, \"z\": \"RandomForest\"}, {\"x\": 22, \"y\": 0.004163026809692383, \"z\": \"LinearSVC\"}, {\"x\": 22, \"y\": 11.860686779022217, \"z\": \"KNN\"}, {\"x\": 22, \"y\": 0.01813793182373047, \"z\": \"GausianNB\"}, {\"x\": 22, \"y\": 0.0033822059631347656, \"z\": \"DecisionTree\"}, {\"x\": 23, \"y\": 0.2539362907409668, \"z\": \"RandomForest\"}, {\"x\": 23, \"y\": 0.005016803741455078, \"z\": \"LinearSVC\"}, {\"x\": 23, \"y\": 9.163446426391602, \"z\": \"KNN\"}, {\"x\": 23, \"y\": 0.012570858001708984, \"z\": \"GausianNB\"}, {\"x\": 23, \"y\": 0.0033822059631347656, \"z\": \"DecisionTree\"}, {\"x\": 24, \"y\": 0.24059224128723145, \"z\": \"RandomForest\"}, {\"x\": 24, \"y\": 0.004270315170288086, \"z\": \"LinearSVC\"}, {\"x\": 24, \"y\": 12.54862093925476, \"z\": \"KNN\"}, {\"x\": 24, \"y\": 0.020236968994140625, \"z\": \"GausianNB\"}, {\"x\": 24, \"y\": 0.003267049789428711, \"z\": \"DecisionTree\"}, {\"x\": 25, \"y\": 0.2906966209411621, \"z\": \"RandomForest\"}, {\"x\": 25, \"y\": 0.0039017200469970703, \"z\": \"LinearSVC\"}, {\"x\": 25, \"y\": 10.160942077636719, \"z\": \"KNN\"}, {\"x\": 25, \"y\": 0.016663312911987305, \"z\": \"GausianNB\"}, {\"x\": 25, \"y\": 0.003296375274658203, \"z\": \"DecisionTree\"}, {\"x\": 26, \"y\": 0.23382139205932617, \"z\": \"RandomForest\"}, {\"x\": 26, \"y\": 0.004331350326538086, \"z\": \"LinearSVC\"}, {\"x\": 26, \"y\": 10.00238037109375, \"z\": \"KNN\"}, {\"x\": 26, \"y\": 0.012444734573364258, \"z\": \"GausianNB\"}, {\"x\": 26, \"y\": 0.0039560794830322266, \"z\": \"DecisionTree\"}, {\"x\": 27, \"y\": 0.23528814315795898, \"z\": \"RandomForest\"}, {\"x\": 27, \"y\": 0.012204885482788086, \"z\": \"LinearSVC\"}, {\"x\": 27, \"y\": 11.11952543258667, \"z\": \"KNN\"}, {\"x\": 27, \"y\": 0.024251699447631836, \"z\": \"GausianNB\"}, {\"x\": 27, \"y\": 0.0031881332397460938, \"z\": \"DecisionTree\"}, {\"x\": 28, \"y\": 0.23505306243896484, \"z\": \"RandomForest\"}, {\"x\": 28, \"y\": 0.004008293151855469, \"z\": \"LinearSVC\"}, {\"x\": 28, \"y\": 9.424694061279297, \"z\": \"KNN\"}, {\"x\": 28, \"y\": 0.012140274047851562, \"z\": \"GausianNB\"}, {\"x\": 28, \"y\": 0.003406047821044922, \"z\": \"DecisionTree\"}, {\"x\": 29, \"y\": 0.2304244041442871, \"z\": \"RandomForest\"}, {\"x\": 29, \"y\": 0.004370212554931641, \"z\": \"LinearSVC\"}, {\"x\": 29, \"y\": 9.19070839881897, \"z\": \"KNN\"}, {\"x\": 29, \"y\": 0.011971712112426758, \"z\": \"GausianNB\"}, {\"x\": 29, \"y\": 0.021864652633666992, \"z\": \"DecisionTree\"}, {\"x\": 30, \"y\": 0.2282271385192871, \"z\": \"RandomForest\"}, {\"x\": 30, \"y\": 0.004695892333984375, \"z\": \"LinearSVC\"}, {\"x\": 30, \"y\": 9.544928550720215, \"z\": \"KNN\"}, {\"x\": 30, \"y\": 0.014315128326416016, \"z\": \"GausianNB\"}, {\"x\": 30, \"y\": 0.003444671630859375, \"z\": \"DecisionTree\"}]}}, {\"mode\": \"vega-lite\"});\n",
       "</script>"
      ],
      "text/plain": [
       "alt.LayerChart(...)"
      ]
     },
     "execution_count": 10,
     "metadata": {},
     "output_type": "execute_result"
    }
   ],
   "source": [
    "alt.renderers.enable('default'); plotter(clf_test, \"time\", (\"Number of Components\", \"Time in seconds\", \"PCAs\"))"
   ]
  }
 ],
 "metadata": {
  "kernelspec": {
   "display_name": "Python 3",
   "language": "python",
   "name": "python3"
  },
  "language_info": {
   "codemirror_mode": {
    "name": "ipython",
    "version": 3
   },
   "file_extension": ".py",
   "mimetype": "text/x-python",
   "name": "python",
   "nbconvert_exporter": "python",
   "pygments_lexer": "ipython3",
   "version": "3.9.4"
  }
 },
 "nbformat": 4,
 "nbformat_minor": 5
}
