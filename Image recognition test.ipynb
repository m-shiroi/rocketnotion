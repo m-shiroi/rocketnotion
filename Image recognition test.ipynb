{
 "cells": [
  {
   "cell_type": "code",
   "execution_count": 18,
   "id": "interesting-philosophy",
   "metadata": {},
   "outputs": [],
   "source": [
    "# Importing packages\n",
    "\n",
    "import matplotlib.pyplot as plt\n",
    "import matplotlib.image as mpimg\n",
    "import pandas as pd\n",
    "import numpy as np\n",
    "\n",
    "from sklearn.metrics import accuracy_score\n",
    "from sklearn.preprocessing import StandardScaler\n",
    "from sklearn.decomposition import PCA\n",
    "\n",
    "from sklearn.neighbors import KNeighborsClassifier\n",
    "from sklearn.ensemble import RandomForestClassifier\n",
    "from sklearn.svm import LinearSVC\n",
    "\n",
    "from PIL import Image"
   ]
  },
  {
   "cell_type": "code",
   "execution_count": 19,
   "id": "e4e9c14d",
   "metadata": {},
   "outputs": [],
   "source": [
    "# Script to generate the csv files from the original data from MNIST\n",
    "\n",
    "def convert(imgf, labelf, outf, n):\n",
    "    f = open(imgf, \"rb\")\n",
    "    o = open(outf, \"w\")\n",
    "    l = open(labelf, \"rb\")\n",
    "\n",
    "    f.read(16)\n",
    "    l.read(8)\n",
    "    images = []\n",
    "\n",
    "    for i in range(n):\n",
    "        image = [ord(l.read(1))]\n",
    "        for j in range(28*28):\n",
    "            image.append(ord(f.read(1)))\n",
    "        images.append(image)\n",
    "\n",
    "    for image in images:\n",
    "        o.write(\",\".join(str(pix) for pix in image)+\"\\n\")\n",
    "    f.close()\n",
    "    o.close()\n",
    "    l.close()"
   ]
  },
  {
   "cell_type": "code",
   "execution_count": 20,
   "id": "4103382f",
   "metadata": {},
   "outputs": [],
   "source": [
    "PCA_COMPONENTS = 4"
   ]
  },
  {
   "cell_type": "code",
   "execution_count": 22,
   "id": "banned-mississippi",
   "metadata": {},
   "outputs": [],
   "source": [
    "# Load the data\n",
    "# ! IF first time loading notebook, -- uncoment two lines below (to convert raw data to csv)\n",
    "\n",
    "#convert(\"datasets_raw/train-images-idx3-ubyte\", \"datasets_raw//train-labels-idx1-ubyte\", \"datasets/mnist_train.csv\", 60000)\n",
    "#convert(\"datasets_raw/t10k-images-idx3-ubyte\", \"datasets_raw/t10k-labels-idx1-ubyte\", \"datasets/mnist_test.csv\", 10000)\n",
    "\n",
    "train = pd.read_csv(\"datasets/mnist_train.csv\")\n",
    "#train.head()"
   ]
  },
  {
   "cell_type": "code",
   "execution_count": 23,
   "id": "exotic-venice",
   "metadata": {},
   "outputs": [],
   "source": [
    "# Dropping and saving labels column\n",
    "\n",
    "dataset_labels = train['5']\n",
    "dataset = train.drop('5', axis=1)"
   ]
  },
  {
   "cell_type": "code",
   "execution_count": 24,
   "id": "favorite-scholarship",
   "metadata": {},
   "outputs": [],
   "source": [
    "# Standartizing the data\n",
    "# Performing standard scalar normalization to normalize our feature set, \n",
    "# because PCA performs best with a normalized feature set\n",
    "\n",
    "dataset_std = StandardScaler().fit_transform(dataset)"
   ]
  },
  {
   "cell_type": "markdown",
   "id": "ed9cb97f",
   "metadata": {},
   "source": [
    "## Applying PCA"
   ]
  },
  {
   "cell_type": "code",
   "execution_count": 25,
   "id": "democratic-contrast",
   "metadata": {},
   "outputs": [],
   "source": [
    "# Applying PCA from scikit-learn\n",
    "# Project the training data to PCA\n",
    "\n",
    "pca = PCA(n_components=PCA_COMPONENTS)\n",
    "dataset_train = pca.fit_transform(dataset_std)"
   ]
  },
  {
   "cell_type": "code",
   "execution_count": 26,
   "id": "56dc202a",
   "metadata": {},
   "outputs": [
    {
     "data": {
      "image/png": "[encoded data removed]",
      "text/plain": [
       "<Figure size 432x288 with 1 Axes>"
      ]
     },
     "metadata": {
      "needs_background": "light"
     },
     "output_type": "display_data"
    }
   ],
   "source": [
    "# Cumulative sum of variances of each of principal components\n",
    "\n",
    "plt.plot(np.cumsum(pca.explained_variance_ratio_))\n",
    "plt.xlabel('Components number')\n",
    "plt.ylabel('Cumulative explained variance');\n",
    "plt.show()"
   ]
  },
  {
   "cell_type": "markdown",
   "id": "9f703f39",
   "metadata": {},
   "source": [
    "# Evaluating perfomance of different classificators\n",
    "\n"
   ]
  },
  {
   "cell_type": "code",
   "execution_count": 27,
   "id": "04519c51",
   "metadata": {},
   "outputs": [
    {
     "name": "stdout",
     "output_type": "stream",
     "text": [
      "<class 'pandas.core.frame.DataFrame'>\n",
      "RangeIndex: 59999 entries, 0 to 59998\n",
      "Columns: 784 entries, 0 to 0.617\n",
      "dtypes: int64(784)\n",
      "memory usage: 358.9 MB\n"
     ]
    }
   ],
   "source": [
    "dataset.info()"
   ]
  },
  {
   "cell_type": "markdown",
   "id": "310616e5",
   "metadata": {},
   "source": [
    "## Random forest classificator"
   ]
  },
  {
   "cell_type": "code",
   "execution_count": 28,
   "id": "tropical-opinion",
   "metadata": {},
   "outputs": [
    {
     "data": {
      "text/plain": [
       "RandomForestClassifier()"
      ]
     },
     "execution_count": 28,
     "metadata": {},
     "output_type": "execute_result"
    }
   ],
   "source": [
    "# Training random forest classificator\n",
    "\n",
    "clf = RandomForestClassifier()\n",
    "clf.fit(dataset_train[:25000], dataset_labels[:25000])"
   ]
  },
  {
   "cell_type": "code",
   "execution_count": 29,
   "id": "5237a865",
   "metadata": {},
   "outputs": [
    {
     "name": "stdout",
     "output_type": "stream",
     "text": [
      "Accuracy:  0.6785336723906398\n"
     ]
    }
   ],
   "source": [
    "# Testing random forest classificator\n",
    "\n",
    "expected = dataset_labels[25000:].tolist()\n",
    "predicted = clf.predict(dataset_train[25000:])\n",
    "print(\"Accuracy: \", accuracy_score(expected, predicted))"
   ]
  },
  {
   "cell_type": "markdown",
   "id": "ec5f6d44",
   "metadata": {},
   "source": [
    "## K-nearest neighbors"
   ]
  },
  {
   "cell_type": "code",
   "execution_count": 30,
   "id": "f3636e1d",
   "metadata": {},
   "outputs": [
    {
     "data": {
      "text/plain": [
       "KNeighborsClassifier()"
      ]
     },
     "execution_count": 30,
     "metadata": {},
     "output_type": "execute_result"
    }
   ],
   "source": [
    "# Training k-nearest neighbors classificator\n",
    "\n",
    "clf = KNeighborsClassifier()\n",
    "clf.fit(dataset_train[:25000], dataset_labels[:25000])"
   ]
  },
  {
   "cell_type": "code",
   "execution_count": 31,
   "id": "34a6fa6d",
   "metadata": {},
   "outputs": [
    {
     "name": "stdout",
     "output_type": "stream",
     "text": [
      "Accuracy:  0.6603902968656248\n"
     ]
    }
   ],
   "source": [
    "# Testing k-nearest neighbors classificator\n",
    "\n",
    "expected = dataset_labels[25000:].tolist()\n",
    "predicted = clf.predict(dataset_train[25000:])\n",
    "print(\"Accuracy: \", accuracy_score(expected, predicted))"
   ]
  },
  {
   "cell_type": "markdown",
   "id": "6a66fa3c",
   "metadata": {},
   "source": [
    "### LinearSVC"
   ]
  },
  {
   "cell_type": "code",
   "execution_count": 32,
   "id": "58f6a3ab",
   "metadata": {},
   "outputs": [
    {
     "name": "stderr",
     "output_type": "stream",
     "text": [
      "/home/reybroncas/github/code_playground/python/image_recognition/.venv/lib/python3.9/site-packages/sklearn/svm/_base.py:985: ConvergenceWarning: Liblinear failed to converge, increase the number of iterations.\n",
      "  warnings.warn(\"Liblinear failed to converge, increase \"\n"
     ]
    },
    {
     "data": {
      "text/plain": [
       "LinearSVC()"
      ]
     },
     "execution_count": 32,
     "metadata": {},
     "output_type": "execute_result"
    }
   ],
   "source": [
    "# Training linear support vector classificator\n",
    "\n",
    "clf = LinearSVC()\n",
    "clf.fit(dataset_train[:25000], dataset_labels[:25000])"
   ]
  },
  {
   "cell_type": "code",
   "execution_count": 33,
   "id": "c1967036",
   "metadata": {},
   "outputs": [
    {
     "name": "stdout",
     "output_type": "stream",
     "text": [
      "Accuracy:  0.5504728706534472\n"
     ]
    }
   ],
   "source": [
    "# Testing linear support vector classificator\n",
    "\n",
    "expected = dataset_labels[25000:].tolist()\n",
    "predicted = clf.predict(dataset_train[25000:])\n",
    "print(\"Accuracy: \", accuracy_score(expected, predicted))"
   ]
  },
  {
   "cell_type": "markdown",
   "id": "8476b41e",
   "metadata": {},
   "source": [
    "### Single photo visual test"
   ]
  },
  {
   "cell_type": "code",
   "execution_count": 34,
   "id": "267eb222",
   "metadata": {},
   "outputs": [
    {
     "name": "stdout",
     "output_type": "stream",
     "text": [
      "It is:  8\n"
     ]
    },
    {
     "data": {
      "image/png": "[encoded data removed]",
      "text/plain": [
       "<PIL.Image.Image image mode=L size=28x28 at 0x7F9D8ACE64F0>"
      ]
     },
     "metadata": {},
     "output_type": "display_data"
    }
   ],
   "source": [
    "image, label = dataset.iloc[50000:50001].values.tolist()[0], dataset_labels.iloc[50000:50001].values.tolist()[0]\n",
    "\n",
    "print(\"It is: \", label)\n",
    "\n",
    "output = Image.new(\"L\", (28, 28))\n",
    "output.putdata(list(image))\n",
    "output.show()"
   ]
  },
  {
   "cell_type": "code",
   "execution_count": 35,
   "id": "permanent-russian",
   "metadata": {},
   "outputs": [
    {
     "name": "stdout",
     "output_type": "stream",
     "text": [
      "Predicted:  [8]\n"
     ]
    }
   ],
   "source": [
    "clf = RandomForestClassifier()\n",
    "clf.fit(dataset_train[:50000], dataset_labels[:50000])\n",
    "\n",
    "expected = dataset_labels[50000:50001].tolist()\n",
    "predicted = clf.predict(dataset_train[50000:50001])\n",
    "print(\"Predicted: \", predicted)"
   ]
  }
 ],
 "metadata": {
  "kernelspec": {
   "display_name": "Python 3",
   "language": "python",
   "name": "python3"
  },
  "language_info": {
   "codemirror_mode": {
    "name": "ipython",
    "version": 3
   },
   "file_extension": ".py",
   "mimetype": "text/x-python",
   "name": "python",
   "nbconvert_exporter": "python",
   "pygments_lexer": "ipython3",
   "version": "3.9.3"
  }
 },
 "nbformat": 4,
 "nbformat_minor": 5
}
